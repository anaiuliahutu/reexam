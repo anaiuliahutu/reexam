{
 "cells": [
  {
   "cell_type": "code",
   "execution_count": 9,
   "metadata": {},
   "outputs": [],
   "source": [
    "# 2.2 (8 points) You make nine measurements of the speed of sound in water, and obtain as follows:\n",
    "# Speed of sound (in m/s) 1532 1458 1499 1394 1432 1565 1474 1440 1507\n",
    "# Uncertainty (in m/s) 67 55 74 129 84 19 10 17 15\n",
    "# • What is the combined result and uncertainty of all your measurements?\n",
    "# • Are your measurements consistent with each other? If not, argue for an updated estimate.\n",
    "# • Given the improved precision of the last four measurements, does it make sense to use only\n",
    "# these or a subset of them?"
   ]
  },
  {
   "cell_type": "code",
   "execution_count": 10,
   "metadata": {},
   "outputs": [
    {
     "name": "stdout",
     "output_type": "stream",
     "text": [
      "The weighted mean of the measurements is: 1481.9139551299543\n",
      "The uncertainty of the measurements is: 7.632016507636047\n"
     ]
    }
   ],
   "source": [
    "import math\n",
    "x=[1532, 1458, 1499, 1394, 1432, 1565, 1474, 1440, 1507]\n",
    "sigma=[67, 55, 74, 129, 84, 19, 10, 17, 15]\n",
    "up=0\n",
    "down=0\n",
    "for i in range (0,8):\n",
    "    up=up + x[i]/math.pow(sigma[i],2)\n",
    "    down=down + 1/math.pow(sigma[i],2)\n",
    "weighted_mean=up/down\n",
    "uncertainty_of_mean=math.sqrt(1/down)\n",
    "\n",
    "print(\"The weighted mean of the measurements is: \"+str(weighted_mean))\n",
    "print(\"The uncertainty of the measurements is: \"+str(uncertainty_of_mean))\n"
   ]
  },
  {
   "cell_type": "code",
   "execution_count": 11,
   "metadata": {},
   "outputs": [
    {
     "name": "stdout",
     "output_type": "stream",
     "text": [
      "1.6187340687225298\n",
      "9.487729036781154\n",
      "0.8054211626039829\n"
     ]
    }
   ],
   "source": [
    "import scipy.stats as stats\n",
    "chi2=0\n",
    "for i in range (0,5):\n",
    "    chi2=chi2 + math.pow(x[i]-weighted_mean,2)/math.pow(sigma[i],2)\n",
    "crit=stats.chi2.ppf(q=0.95, df=4)\n",
    "p_value=1-stats.chi2.cdf(x=chi2, df=4)\n",
    "print(chi2)\n",
    "print(crit)\n",
    "print(p_value)\n"
   ]
  }
 ],
 "metadata": {
  "kernelspec": {
   "display_name": "my-env",
   "language": "python",
   "name": "python3"
  },
  "language_info": {
   "codemirror_mode": {
    "name": "ipython",
    "version": 3
   },
   "file_extension": ".py",
   "mimetype": "text/x-python",
   "name": "python",
   "nbconvert_exporter": "python",
   "pygments_lexer": "ipython3",
   "version": "3.11.0"
  },
  "orig_nbformat": 4
 },
 "nbformat": 4,
 "nbformat_minor": 2
}
