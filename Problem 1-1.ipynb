{
 "cells": [
  {
   "cell_type": "code",
   "execution_count": 1,
   "metadata": {},
   "outputs": [],
   "source": [
    "# 1.1 (8 points) You draw balls with colors Blue (B) and Red (R) from a container and put them back.\n",
    "# You draw 5 Blue and 3 Red (5B3R).\n",
    "# • What is your estimate with uncertainty of the fraction of Blue balls in the container.\n",
    "# • In Container 1 the fraction of blue is 90% and in Container 2 fraction of blue is 50%. What\n",
    "# is the likelihood that you drew as you did (5B3R) from container 1?\n",
    "# • You learn that the prior belief for Container 1 is 80%. How does this change your estimate?"
   ]
  },
  {
   "cell_type": "code",
   "execution_count": 2,
   "metadata": {},
   "outputs": [
    {
     "name": "stdout",
     "output_type": "stream",
     "text": [
      "The estimated fraction of blue balls in the container is: 0.625.\n"
     ]
    }
   ],
   "source": [
    "#1.1.1\n",
    "blue=5\n",
    "red=3\n",
    "n=blue + red\n",
    "f=blue/n #fraction of blue balls in the container\n",
    "print(\"The estimated fraction of blue balls in the container is: \"+str(f)+\".\")"
   ]
  },
  {
   "cell_type": "code",
   "execution_count": 3,
   "metadata": {},
   "outputs": [
    {
     "name": "stdout",
     "output_type": "stream",
     "text": [
      "Estimated fraction with uncertainty is: 0.625+/-0.171.\n"
     ]
    }
   ],
   "source": [
    "import math\n",
    "error=math.sqrt(f*(1-f)/n)\n",
    "print(\"Estimated fraction with uncertainty is: \"+str(f)+\"+/-\"+str(round(error,3))+\".\")"
   ]
  },
  {
   "cell_type": "code",
   "execution_count": 4,
   "metadata": {},
   "outputs": [
    {
     "name": "stdout",
     "output_type": "stream",
     "text": [
      "The probability of the extraction if it was done from container 1 is: 0.033.\n",
      "The probability of the extraction if it was done from container 2 is: 0.219.\n",
      "The probability of the extraction, regardless of the container is: 0.126.\n",
      "The probability of the extraction being done from container 1 is: 0.131.\n",
      "The probability of the extraction being done from container 2 is: 0.869.\n"
     ]
    }
   ],
   "source": [
    "#1.1.2\n",
    "from scipy.stats import binom\n",
    "p1=0.9 #probability of extraction from container 1\n",
    "P1=binom.pmf(blue,n,p1)\n",
    "print(\"The probability of the extraction if it was done from container 1 is: \"+str(round(P1,3))+\".\")\n",
    "p2=0.5 #probability of extraction from container 2\n",
    "P2=binom.pmf(blue,n,p2)\n",
    "print(\"The probability of the extraction if it was done from container 2 is: \"+str(round(P2,3))+\".\")\n",
    "prob=0.5 #probability of either container being picked\n",
    "TP=P1*prob+P2*prob #probability of the extraction, regardless of the container\n",
    "print(\"The probability of the extraction, regardless of the container is: \"+str(round(TP,3))+\".\")\n",
    "PC1=P1*prob/TP #probability of the extraction being done from container 1\n",
    "print(\"The probability of the extraction being done from container 1 is: \"+str(round(PC1,3))+\".\")\n",
    "PC1=P2*prob/TP #probability of the extraction being done from container 1\n",
    "print(\"The probability of the extraction being done from container 2 is: \"+str(round(PC1,3))+\".\")"
   ]
  },
  {
   "cell_type": "code",
   "execution_count": 5,
   "metadata": {},
   "outputs": [
    {
     "name": "stdout",
     "output_type": "stream",
     "text": [
      "The probability of the extraction if it was done from container 1 is: 0.147.\n",
      "The probability of the extraction, regardless of the container is: 0.183.\n",
      "The probability of the extraction being done from container 1 is: 0.402.\n"
     ]
    }
   ],
   "source": [
    "#1.1.3\n",
    "p1=0.8 #probability of extraction from container 1\n",
    "P1=binom.pmf(blue,n,p1)\n",
    "print(\"The probability of the extraction if it was done from container 1 is: \"+str(round(P1,3))+\".\")\n",
    "prob=0.5 #probability of either container being picked\n",
    "TP=P1*prob+P2*prob #probability of the extraction, regardless of the container\n",
    "print(\"The probability of the extraction, regardless of the container is: \"+str(round(TP,3))+\".\")\n",
    "PC1=P1*prob/TP #probability of the extraction being done from container 1\n",
    "print(\"The probability of the extraction being done from container 1 is: \"+str(round(PC1,3))+\".\")\n",
    "\n"
   ]
  }
 ],
 "metadata": {
  "kernelspec": {
   "display_name": "my-env",
   "language": "python",
   "name": "python3"
  },
  "language_info": {
   "codemirror_mode": {
    "name": "ipython",
    "version": 3
   },
   "file_extension": ".py",
   "mimetype": "text/x-python",
   "name": "python",
   "nbconvert_exporter": "python",
   "pygments_lexer": "ipython3",
   "version": "3.11.0"
  },
  "orig_nbformat": 4
 },
 "nbformat": 4,
 "nbformat_minor": 2
}
