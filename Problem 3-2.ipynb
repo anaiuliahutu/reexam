{
 "cells": [
  {
   "cell_type": "code",
   "execution_count": 15,
   "metadata": {},
   "outputs": [],
   "source": [
    "# 3.2 (12 points) You shoot a penalty, and the probability of scoring depends on the position x (in m)\n",
    "# you hit, as pscore = |x|/4 m for |x| < 4 m and zero otherwise (outside goal). Assume the ball hits\n",
    "# the goal where you aim with an uncertainty of one meter.\n",
    "# • Where should you aim to have the highest probability of scoring?\n",
    "# • How much would you increase your highest propability of scoring, if your uncertainty was\n",
    "# half a meter, and where should you then shoot?\n",
    "# • Where should you aim, if the goalkeeper should save 50% of the shots?"
   ]
  },
  {
   "cell_type": "code",
   "execution_count": 16,
   "metadata": {},
   "outputs": [
    {
     "name": "stdout",
     "output_type": "stream",
     "text": [
      "Aim at position x = -0.00 meters to have the highest probability of scoring.\n"
     ]
    }
   ],
   "source": [
    "import numpy as np\n",
    "from scipy.integrate import quad\n",
    "from scipy.optimize import minimize_scalar\n",
    "\n",
    "def p(x):\n",
    "    return 1/(2*np.pi*1**2)**0.5 * np.exp(-0.5*(x)**2/1**2)\n",
    "def pscore(x):\n",
    "    if abs(x) < 4:\n",
    "        return abs(x)/4\n",
    "    else:\n",
    "        return 0\n",
    "def expected_score(x):\n",
    "    if x > 0:\n",
    "        return quad(lambda y: p(y)*pscore(y), x-4, x+4)[0]/quad(lambda y: p(y), x-4, x+4)[0]\n",
    "    elif x < 0:\n",
    "        return quad(lambda y: p(y)*pscore(y), x+4, x-4)[0]/quad(lambda y: p(y), x+4, x-4)[0]\n",
    "    else:\n",
    "        return 0\n",
    "\n",
    "res = minimize_scalar(lambda x: -expected_score(x), bounds=(-4, 4))\n",
    "print(\"Aim at position x = {:.2f} meters to have the highest probability of scoring.\".format(res.x))"
   ]
  },
  {
   "cell_type": "code",
   "execution_count": 17,
   "metadata": {},
   "outputs": [
    {
     "name": "stdout",
     "output_type": "stream",
     "text": [
      "With 0.5 uncertainty, the aim should be at position x = 0.33 meters to have the highest probability of scoring.\n"
     ]
    }
   ],
   "source": [
    "import numpy as np\n",
    "from scipy.integrate import quad\n",
    "from scipy.optimize import minimize_scalar\n",
    "\n",
    "def p(x):\n",
    "    # Probability density function for position x\n",
    "    return 1/(2*np.pi*0.5**2)**0.5 * np.exp(-0.5*(x)**2/0.5**2)\n",
    "\n",
    "def pscore(x):\n",
    "    # Scoring probability for position x\n",
    "    if abs(x) < 4:\n",
    "        return abs(x)/4\n",
    "    else:\n",
    "        return 0\n",
    "\n",
    "def expected_score(x):\n",
    "    # Expected score for position x\n",
    "    if x > 0:\n",
    "        return quad(lambda y: p(y)*pscore(y), x-4, x+4)[0]/quad(lambda y: p(y), x-4, x+4)[0]\n",
    "    elif x < 0:\n",
    "        return quad(lambda y: p(y)*pscore(y), x+4, x-4)[0]/quad(lambda y: p(y), x+4, x-4)[0]\n",
    "    else:\n",
    "        return 0\n",
    "\n",
    "res1 = minimize_scalar(lambda x: -expected_score(x), bounds=(-4, 4))\n",
    "max_prob1 = -res1.fun # highest probability of scoring with 0.5m uncertainty\n",
    "\n",
    "def pscore_new(x):\n",
    "    # Scoring probability for position x with 0.5m uncertainty\n",
    "    if abs(x) < 4:\n",
    "        return abs(x-0.5)/4\n",
    "    else:\n",
    "        return 0\n",
    "\n",
    "def expected_score_new(x):\n",
    "    if x > 0:\n",
    "        return quad(lambda y: p(y)*pscore_new(y), x-4, x+4)[0]/quad(lambda y: p(y), x-4, x+4)[0]\n",
    "    elif x < 0:\n",
    "        return quad(lambda y: p(y)*pscore_new(y), x+4, x-4)[0]/quad(lambda y: p(y), x+4, x-4)[0]\n",
    "    else:\n",
    "        return 0\n",
    "\n",
    "res2 = minimize_scalar(lambda x: -expected_score_new(x), bounds=(-4, 4))\n",
    "max_prob2 = -res2.fun # highest probability of scoring with 0.5m uncertainty\n",
    "print(\"With 0.5 uncertainty, the aim should be at position x = {:.2f} meters to have the highest probability of scoring.\".format(res2.x))"
   ]
  },
  {
   "cell_type": "code",
   "execution_count": 18,
   "metadata": {},
   "outputs": [
    {
     "name": "stdout",
     "output_type": "stream",
     "text": [
      "Aim at position x = 0.19 meters to score with a goalkeeper who saves 50% of the shots.\n"
     ]
    }
   ],
   "source": [
    "def expected_score_goalkeeper(x, save_prob):\n",
    "    if x > 0:\n",
    "        return quad(lambda y: p(y)*pscore(y)*(1-save_prob), x-4, x+4)[0]/quad(lambda y: p(y), x-4, x+4)[0]\n",
    "    elif x < 0:\n",
    "        return quad(lambda y: p(y)*pscore(y)*(1-save_prob), x+4, x-4)[0]/quad(lambda y: p(y), x+4, x-4)[0]\n",
    "    else:\n",
    "        return 0\n",
    "\n",
    "save_prob = 0.5 # probability that the goalkeeper saves the shot\n",
    "res = minimize_scalar(lambda x: -expected_score_goalkeeper(x, save_prob), bounds=(-4, 4))\n",
    "optimal_position = res.x\n",
    "print(\"Aim at position x = {:.2f} meters to score with a goalkeeper who saves 50% of the shots.\".format(optimal_position))"
   ]
  }
 ],
 "metadata": {
  "kernelspec": {
   "display_name": "my-env",
   "language": "python",
   "name": "python3"
  },
  "language_info": {
   "codemirror_mode": {
    "name": "ipython",
    "version": 3
   },
   "file_extension": ".py",
   "mimetype": "text/x-python",
   "name": "python",
   "nbconvert_exporter": "python",
   "pygments_lexer": "ipython3",
   "version": "3.11.0"
  },
  "orig_nbformat": 4
 },
 "nbformat": 4,
 "nbformat_minor": 2
}
