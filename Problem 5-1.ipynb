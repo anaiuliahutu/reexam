{
 "cells": [
  {
   "cell_type": "code",
   "execution_count": 63,
   "metadata": {},
   "outputs": [],
   "source": [
    "# 5.1 (16 points) The file www.nbi.dk/∼petersen/data DecayTimes.csv contains the measured\n",
    "# decay times (ti\n",
    "# in s) of a Bohrium isotope. The true decay times follow an exponential function,\n",
    "# but the measurement of the decay times given have a Gaussian resolution G(0, σ) (thus no bias).\n",
    "# • Plot the distribution of decay times, and calculate the mean and median with uncertainty.\n",
    "# • Give a rough estimate of the decay time λ from fitting the tail of the distribution.\n",
    "# • Give a rough estimate of the Gaussian resolution, σ.\n",
    "# • Try to fit the entire distribution, and reassess the estimated values of λ and σ."
   ]
  },
  {
   "cell_type": "code",
   "execution_count": 64,
   "metadata": {},
   "outputs": [],
   "source": [
    "import math\n",
    "import numpy as np\n",
    "import pandas as pd\n",
    "import matplotlib.pyplot as plt\n",
    "import scipy.stats as stats\n"
   ]
  },
  {
   "cell_type": "code",
   "execution_count": 65,
   "metadata": {},
   "outputs": [
    {
     "data": {
      "text/html": [
       "<div>\n",
       "<style scoped>\n",
       "    .dataframe tbody tr th:only-of-type {\n",
       "        vertical-align: middle;\n",
       "    }\n",
       "\n",
       "    .dataframe tbody tr th {\n",
       "        vertical-align: top;\n",
       "    }\n",
       "\n",
       "    .dataframe thead th {\n",
       "        text-align: right;\n",
       "    }\n",
       "</style>\n",
       "<table border=\"1\" class=\"dataframe\">\n",
       "  <thead>\n",
       "    <tr style=\"text-align: right;\">\n",
       "      <th></th>\n",
       "      <th>0</th>\n",
       "    </tr>\n",
       "  </thead>\n",
       "  <tbody>\n",
       "    <tr>\n",
       "      <th>0</th>\n",
       "      <td>0.49073</td>\n",
       "    </tr>\n",
       "    <tr>\n",
       "      <th>1</th>\n",
       "      <td>2.65275</td>\n",
       "    </tr>\n",
       "    <tr>\n",
       "      <th>2</th>\n",
       "      <td>1.35328</td>\n",
       "    </tr>\n",
       "    <tr>\n",
       "      <th>3</th>\n",
       "      <td>1.00767</td>\n",
       "    </tr>\n",
       "    <tr>\n",
       "      <th>4</th>\n",
       "      <td>0.27649</td>\n",
       "    </tr>\n",
       "    <tr>\n",
       "      <th>...</th>\n",
       "      <td>...</td>\n",
       "    </tr>\n",
       "    <tr>\n",
       "      <th>995</th>\n",
       "      <td>-0.17084</td>\n",
       "    </tr>\n",
       "    <tr>\n",
       "      <th>996</th>\n",
       "      <td>2.29557</td>\n",
       "    </tr>\n",
       "    <tr>\n",
       "      <th>997</th>\n",
       "      <td>0.13531</td>\n",
       "    </tr>\n",
       "    <tr>\n",
       "      <th>998</th>\n",
       "      <td>2.82462</td>\n",
       "    </tr>\n",
       "    <tr>\n",
       "      <th>999</th>\n",
       "      <td>0.43440</td>\n",
       "    </tr>\n",
       "  </tbody>\n",
       "</table>\n",
       "<p>1000 rows × 1 columns</p>\n",
       "</div>"
      ],
      "text/plain": [
       "           0\n",
       "0    0.49073\n",
       "1    2.65275\n",
       "2    1.35328\n",
       "3    1.00767\n",
       "4    0.27649\n",
       "..       ...\n",
       "995 -0.17084\n",
       "996  2.29557\n",
       "997  0.13531\n",
       "998  2.82462\n",
       "999  0.43440\n",
       "\n",
       "[1000 rows x 1 columns]"
      ]
     },
     "execution_count": 65,
     "metadata": {},
     "output_type": "execute_result"
    }
   ],
   "source": [
    "url=\"http://www.nbi.dk/~petersen/data_DecayTimes.csv\"\n",
    "dataframe = pd.read_csv(url, header=None)\n",
    "dataframe"
   ]
  },
  {
   "cell_type": "code",
   "execution_count": 66,
   "metadata": {},
   "outputs": [
    {
     "data": {
      "image/png": "[encoded data removed]",
      "text/plain": [
       "<Figure size 640x480 with 1 Axes>"
      ]
     },
     "metadata": {},
     "output_type": "display_data"
    }
   ],
   "source": [
    "#5.1.1\n",
    "fig, ax = plt.subplots()\n",
    "counts, bins, _ = ax.hist(dataframe[0], bins=20, density=True, alpha=0.5)\n",
    "\n",
    "# Calculate the mean and standard deviation of the data\n",
    "mean = np.mean(dataframe[0])\n",
    "std_dev = np.std(dataframe[0])\n",
    "\n",
    "median = np.median(dataframe[0])\n",
    "lower, upper = np.percentile(dataframe[0], [16, 84])  #calculate the 68% interval\n",
    "median_uncertainty = np.abs(median - np.mean([lower, upper]))\n",
    "n = len(dataframe[0])\n",
    "std_err = std_dev / np.sqrt(n)\n",
    "# Add the mean, median and their uncertainties to the plot\n",
    "ax.axvline(mean, color='r', linestyle='--', label=f\"Mean: {mean:.3f}$\\pm${std_err:.3f}\")\n",
    "ax.axvline(median, color='g', linestyle='--', label=f'Median: {median:.3f}$\\pm${median_uncertainty:.3f}')\n",
    "ax.fill_between([lower, upper], 0, counts.max(), color='g', alpha=0.2, label=\"68% confidence interval\")\n",
    "\n",
    "# Add a legend to the plot\n",
    "ax.legend()\n",
    "\n",
    "# Show the plot\n",
    "plt.show()"
   ]
  },
  {
   "cell_type": "code",
   "execution_count": 67,
   "metadata": {},
   "outputs": [
    {
     "ename": "ValueError",
     "evalue": "object too deep for desired array",
     "output_type": "error",
     "traceback": [
      "\u001b[1;31m---------------------------------------------------------------------------\u001b[0m",
      "\u001b[1;31mValueError\u001b[0m                                Traceback (most recent call last)",
      "\u001b[1;31mValueError\u001b[0m: object too deep for desired array"
     ]
    },
    {
     "ename": "error",
     "evalue": "Result from function call is not a proper array of floats.",
     "output_type": "error",
     "traceback": [
      "\u001b[1;31m---------------------------------------------------------------------------\u001b[0m",
      "\u001b[1;31merror\u001b[0m                                     Traceback (most recent call last)",
      "Cell \u001b[1;32mIn[67], line 18\u001b[0m\n\u001b[0;32m     15\u001b[0m t \u001b[39m=\u001b[39m np\u001b[39m.\u001b[39marange(\u001b[39mlen\u001b[39m(dataframe[\u001b[39m0\u001b[39m]))\n\u001b[0;32m     17\u001b[0m \u001b[39m# Fit the tail data to the single exponential decay model\u001b[39;00m\n\u001b[1;32m---> 18\u001b[0m popt, pcov \u001b[39m=\u001b[39m curve_fit(decay, t[tail_start:], tail_data)\n\u001b[0;32m     20\u001b[0m \u001b[39m# Extract the decay constant (lambda) and its uncertainty from the fitted parameters\u001b[39;00m\n\u001b[0;32m     21\u001b[0m lam \u001b[39m=\u001b[39m popt[\u001b[39m0\u001b[39m]\n",
      "File \u001b[1;32mc:\\Users\\ana\\miniconda3\\envs\\my-env\\Lib\\site-packages\\scipy\\optimize\\_minpack_py.py:859\u001b[0m, in \u001b[0;36mcurve_fit\u001b[1;34m(f, xdata, ydata, p0, sigma, absolute_sigma, check_finite, bounds, method, jac, full_output, **kwargs)\u001b[0m\n\u001b[0;32m    856\u001b[0m \u001b[39mif\u001b[39;00m ydata\u001b[39m.\u001b[39msize \u001b[39m!=\u001b[39m \u001b[39m1\u001b[39m \u001b[39mand\u001b[39;00m n \u001b[39m>\u001b[39m ydata\u001b[39m.\u001b[39msize:\n\u001b[0;32m    857\u001b[0m     \u001b[39mraise\u001b[39;00m \u001b[39mTypeError\u001b[39;00m(\u001b[39mf\u001b[39m\u001b[39m\"\u001b[39m\u001b[39mThe number of func parameters=\u001b[39m\u001b[39m{\u001b[39;00mn\u001b[39m}\u001b[39;00m\u001b[39m must not\u001b[39m\u001b[39m\"\u001b[39m\n\u001b[0;32m    858\u001b[0m                     \u001b[39mf\u001b[39m\u001b[39m\"\u001b[39m\u001b[39m exceed the number of data points=\u001b[39m\u001b[39m{\u001b[39;00mydata\u001b[39m.\u001b[39msize\u001b[39m}\u001b[39;00m\u001b[39m\"\u001b[39m)\n\u001b[1;32m--> 859\u001b[0m res \u001b[39m=\u001b[39m leastsq(func, p0, Dfun\u001b[39m=\u001b[39;49mjac, full_output\u001b[39m=\u001b[39;49m\u001b[39m1\u001b[39;49m, \u001b[39m*\u001b[39;49m\u001b[39m*\u001b[39;49mkwargs)\n\u001b[0;32m    860\u001b[0m popt, pcov, infodict, errmsg, ier \u001b[39m=\u001b[39m res\n\u001b[0;32m    861\u001b[0m ysize \u001b[39m=\u001b[39m \u001b[39mlen\u001b[39m(infodict[\u001b[39m'\u001b[39m\u001b[39mfvec\u001b[39m\u001b[39m'\u001b[39m])\n",
      "File \u001b[1;32mc:\\Users\\ana\\miniconda3\\envs\\my-env\\Lib\\site-packages\\scipy\\optimize\\_minpack_py.py:426\u001b[0m, in \u001b[0;36mleastsq\u001b[1;34m(func, x0, args, Dfun, full_output, col_deriv, ftol, xtol, gtol, maxfev, epsfcn, factor, diag)\u001b[0m\n\u001b[0;32m    424\u001b[0m     \u001b[39mif\u001b[39;00m maxfev \u001b[39m==\u001b[39m \u001b[39m0\u001b[39m:\n\u001b[0;32m    425\u001b[0m         maxfev \u001b[39m=\u001b[39m \u001b[39m200\u001b[39m\u001b[39m*\u001b[39m(n \u001b[39m+\u001b[39m \u001b[39m1\u001b[39m)\n\u001b[1;32m--> 426\u001b[0m     retval \u001b[39m=\u001b[39m _minpack\u001b[39m.\u001b[39;49m_lmdif(func, x0, args, full_output, ftol, xtol,\n\u001b[0;32m    427\u001b[0m                              gtol, maxfev, epsfcn, factor, diag)\n\u001b[0;32m    428\u001b[0m \u001b[39melse\u001b[39;00m:\n\u001b[0;32m    429\u001b[0m     \u001b[39mif\u001b[39;00m col_deriv:\n",
      "\u001b[1;31merror\u001b[0m: Result from function call is not a proper array of floats."
     ]
    }
   ],
   "source": [
    "import numpy as np\n",
    "import matplotlib.pyplot as plt\n",
    "from scipy.optimize import curve_fit\n",
    "\n",
    "# Define the single exponential decay function\n",
    "def decay(t, lam):\n",
    "    return np.exp(-lam*t)\n",
    "# Set the tail region to fit (e.g., last 4 data points)\n",
    "tail_start = -300\n",
    "\n",
    "# Extract the tail data\n",
    "tail_data = dataframe[tail_start:]\n",
    "\n",
    "# Define the time axis for plotting\n",
    "t = np.arange(len(dataframe[0]))\n",
    "\n",
    "# Fit the tail data to the single exponential decay model\n",
    "popt, pcov = curve_fit(decay, t[tail_start:], tail_data)\n",
    "\n",
    "# Extract the decay constant (lambda) and its uncertainty from the fitted parameters\n",
    "lam = popt[0]\n",
    "lam_err = np.sqrt(np.diag(pcov))[0]\n",
    "\n",
    "# Plot the data and fitted curve\n",
    "plt.plot(t, dataframe[0], 'bo', label='Data')\n",
    "plt.plot(t[tail_start:], decay(t[tail_start:], *popt), 'r-', label='Fit')\n",
    "plt.xlabel('Time')\n",
    "plt.ylabel('Counts')\n",
    "plt.legend()\n",
    "plt.show()\n",
    "\n",
    "# Print the decay constant and its uncertainty\n",
    "print(f\"Decay constant: {lam:.3f} +/- {lam_err:.3f}\")\n"
   ]
  }
 ],
 "metadata": {
  "kernelspec": {
   "display_name": "my-env",
   "language": "python",
   "name": "python3"
  },
  "language_info": {
   "codemirror_mode": {
    "name": "ipython",
    "version": 3
   },
   "file_extension": ".py",
   "mimetype": "text/x-python",
   "name": "python",
   "nbconvert_exporter": "python",
   "pygments_lexer": "ipython3",
   "version": "3.11.0"
  },
  "orig_nbformat": 4
 },
 "nbformat": 4,
 "nbformat_minor": 2
}
