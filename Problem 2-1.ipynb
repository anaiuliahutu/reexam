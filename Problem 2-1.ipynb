{
 "cells": [
  {
   "cell_type": "code",
   "execution_count": 41,
   "metadata": {},
   "outputs": [],
   "source": [
    "#2.1\n",
    "import math\n",
    "from scipy.stats import norm\n"
   ]
  },
  {
   "cell_type": "code",
   "execution_count": 42,
   "metadata": {},
   "outputs": [
    {
     "name": "stdout",
     "output_type": "stream",
     "text": [
      "14.899999999999991\n",
      "12.442266674525184\n",
      "-0.3430000000000042\n",
      "-16.02300000000013\n",
      "-84.40406398104265\n",
      "5.810153808604822\n"
     ]
    }
   ],
   "source": [
    "x=99.3\n",
    "sigma_x=10.9\n",
    "y=84.4\n",
    "sigma_y=6.0\n",
    "#z1\n",
    "z1=x-y\n",
    "print(z1)\n",
    "sigma_z1=math.sqrt(math.pow(sigma_x,2) + math.pow(sigma_y,2))\n",
    "print(sigma_z1)\n",
    "#z2\n",
    "a=pow((x-100),3)\n",
    "print(a)\n",
    "sigma_a=a*math.sqrt(math.pow(3*sigma_x/(x-100),2))\n",
    "print(sigma_a)\n",
    "b=a/y\n",
    "sigma_b=b*math.sqrt(math.pow(sigma_a/a,2)+math.pow(sigma_y/y,2))\n",
    "z2=b-y\n",
    "sigma_z2=sigma_b + sigma_y\n",
    "print(z2)\n",
    "print(sigma_z2)\n"
   ]
  },
  {
   "cell_type": "code",
   "execution_count": 43,
   "metadata": {},
   "outputs": [
    {
     "name": "stdout",
     "output_type": "stream",
     "text": [
      "The probability of z1 being negative is 0.115550\n"
     ]
    }
   ],
   "source": [
    "z_score = (0 - z1) / sigma_z1\n",
    "p_negative = norm.cdf(z_score)\n",
    "\n",
    "print(f\"The probability of z1 being negative is {p_negative:.6f}\")"
   ]
  },
  {
   "cell_type": "code",
   "execution_count": 44,
   "metadata": {},
   "outputs": [
    {
     "name": "stdout",
     "output_type": "stream",
     "text": [
      "118.81\n",
      "36.0\n",
      "Variable x contributes most to the uncertainty on z2.\n"
     ]
    }
   ],
   "source": [
    "z2_var_x = sigma_x**2\n",
    "z2_var_y = sigma_y**2\n",
    "z2_var = z2_var_x + z2_var_y\n",
    "print(z2_var_x)\n",
    "print(z2_var_y)\n",
    "if z2_var_x > z2_var_y:\n",
    "    print(\"Variable x contributes most to the uncertainty on z2.\")\n",
    "elif z2_var_y > z2_var_x:\n",
    "    print(\"Variable y contributes most to the uncertainty on z2.\")\n",
    "else:\n",
    "    print(\"The variables contribute equally to the uncertainty on z2.\")"
   ]
  },
  {
   "cell_type": "code",
   "execution_count": 45,
   "metadata": {},
   "outputs": [
    {
     "name": "stdout",
     "output_type": "stream",
     "text": [
      "The Pearson correlation between z1 and z2 is -49.372677\n",
      "The uncertainty of z1 is 14.839474\n",
      "The uncertainty of z2 is 1353.179963\n"
     ]
    }
   ],
   "source": [
    "coef=-0.5\n",
    "\n",
    "cov_xy = coef * sigma_x * sigma_y\n",
    "cov_z1_z2 = cov_xy * (3 * (x - 100) ** 2 * (y - 1 / y) - (x - y))\n",
    "var_z1 = sigma_x ** 2 + sigma_y ** 2 - 2 * cov_xy\n",
    "var_z2 = ((3 * (x - 100) ** 2 * (y - 1 / y)) ** 2 * sigma_x ** 2) \\\n",
    "         + ((x - 100) ** 6 * (y ** -2 - 2 * y ** -3 * (x - 100) ** 3 + 3 * y ** -4 * (x - 100) ** 6) * sigma_y ** 2) \\\n",
    "         + (2 * 3 * (x - 100) ** 2 * (y - 1 / y) * (x - 100) ** 3 * cov_xy)\n",
    "\n",
    "uncertainty_z1 = math.sqrt(var_z1)\n",
    "uncertainty_z2 = math.sqrt(var_z2)\n",
    "corr_z1_z2 = cov_z1_z2 / (sigma_z1 * sigma_z2)\n",
    "\n",
    "print(f\"The Pearson correlation between z1 and z2 is {corr_z1_z2:.6f}\")\n",
    "print(f\"The uncertainty of z1 is {uncertainty_z1:.6f}\")\n",
    "print(f\"The uncertainty of z2 is {uncertainty_z2:.6f}\")"
   ]
  },
  {
   "cell_type": "code",
   "execution_count": null,
   "metadata": {},
   "outputs": [],
   "source": []
  }
 ],
 "metadata": {
  "kernelspec": {
   "display_name": "my-env",
   "language": "python",
   "name": "python3"
  },
  "language_info": {
   "codemirror_mode": {
    "name": "ipython",
    "version": 3
   },
   "file_extension": ".py",
   "mimetype": "text/x-python",
   "name": "python",
   "nbconvert_exporter": "python",
   "pygments_lexer": "ipython3",
   "version": "3.11.0"
  },
  "orig_nbformat": 4
 },
 "nbformat": 4,
 "nbformat_minor": 2
}
